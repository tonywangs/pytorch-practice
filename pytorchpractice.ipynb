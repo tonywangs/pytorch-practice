{
  "nbformat": 4,
  "nbformat_minor": 0,
  "metadata": {
    "colab": {
      "provenance": [],
      "authorship_tag": "ABX9TyOrTeTZQmDmQqHQnrd7paRk",
      "include_colab_link": true
    },
    "kernelspec": {
      "name": "python3",
      "display_name": "Python 3"
    },
    "language_info": {
      "name": "python"
    }
  },
  "cells": [
    {
      "cell_type": "markdown",
      "metadata": {
        "id": "view-in-github",
        "colab_type": "text"
      },
      "source": [
        "<a href=\"https://colab.research.google.com/github/tonywangs/pytorch-practice/blob/main/pytorchpractice.ipynb\" target=\"_parent\"><img src=\"https://colab.research.google.com/assets/colab-badge.svg\" alt=\"Open In Colab\"/></a>"
      ]
    },
    {
      "cell_type": "code",
      "execution_count": 1,
      "metadata": {
        "colab": {
          "base_uri": "https://localhost:8080/"
        },
        "id": "TsuM5VX8h6vX",
        "outputId": "c3a51ef2-2c8e-42de-b8ba-ce3c3a3fa1e0"
      },
      "outputs": [
        {
          "output_type": "execute_result",
          "data": {
            "text/plain": [
              "tensor([1, 2, 3])"
            ]
          },
          "metadata": {},
          "execution_count": 1
        }
      ],
      "source": [
        "import torch\n",
        "import torch.nn as nn\n",
        "\n",
        "torch.tensor([1, 2, 3])"
      ]
    },
    {
      "cell_type": "code",
      "source": [
        "class MyModel(nn.Module):\n",
        "\n",
        "  # INIT FUNCTION\n",
        "  def __init__(self):\n",
        "    # Define the model structure\n",
        "    self.hidden = nn.Linear(3, 4)\n",
        "    self.output = nn.Linear(4, 1)\n",
        "\n",
        "  # FORWARD FUNCTION\n",
        "  def forward(self, x):\n",
        "    # Return the model prediction\n",
        "    hidden_output = self.hidden.forward(x)\n",
        "    return self.output(hidden_output)"
      ],
      "metadata": {
        "id": "mbYK-iBUpYcv"
      },
      "execution_count": 2,
      "outputs": []
    },
    {
      "cell_type": "code",
      "source": [],
      "metadata": {
        "id": "yWqxnyk6qNn5"
      },
      "execution_count": null,
      "outputs": []
    }
  ]
}